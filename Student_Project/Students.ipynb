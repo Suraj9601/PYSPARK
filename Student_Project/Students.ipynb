{
 "cells": [
  {
   "cell_type": "markdown",
   "id": "d1a4808c",
   "metadata": {},
   "source": [
    "We have student data with marks and attendance. The goal is to calculate total marks, average percentage, topper, and class performance."
   ]
  },
  {
   "cell_type": "markdown",
   "id": "83b04bea",
   "metadata": {},
   "source": [
    "Setup PySpark"
   ]
  },
  {
   "cell_type": "code",
   "execution_count": null,
   "id": "39432e80-f124-4ab8-b43d-5e1e3233a11d",
   "metadata": {},
   "outputs": [],
   "source": [
    "import findspark\n",
    "findspark.init()\n"
   ]
  },
  {
   "cell_type": "code",
   "execution_count": null,
   "id": "70d88109-cdea-4ba5-85e8-fe9106e6d753",
   "metadata": {},
   "outputs": [],
   "source": [
    "import findspark\n",
    "findspark.init()\n",
    "\n",
    "import os\n",
    "print(os.environ.get(\"JAVA_HOME\"))\n"
   ]
  },
  {
   "cell_type": "code",
   "execution_count": null,
   "id": "eca3d6b5-5dce-4b36-9748-4d4ec088ee21",
   "metadata": {},
   "outputs": [],
   "source": [
    "from pyspark.sql import SparkSession\n",
    "from pyspark.sql.functions import col,when, round\n",
    "from functools import reduce\n",
    "import operator\n",
    "\n",
    "\n",
    "spark = SparkSession.builder \\\n",
    "    .appName(\"Student Performance Project PySpark\") \\\n",
    "    .getOrCreate()\n"
   ]
  },
  {
   "cell_type": "markdown",
   "id": "e841e131",
   "metadata": {},
   "source": []
  },
  {
   "cell_type": "markdown",
   "id": "41c1f764",
   "metadata": {},
   "source": [
    "Load Data from CSV file"
   ]
  },
  {
   "cell_type": "code",
   "execution_count": null,
   "id": "33726eec-d100-4d06-ae68-48aa5a0360af",
   "metadata": {},
   "outputs": [],
   "source": [
    "print(\"All Students : \")\n",
    "df = spark.read.csv(\"students.csv\", header=True, inferSchema=True)\n",
    "df.toPandas()\n"
   ]
  },
  {
   "cell_type": "markdown",
   "id": "49646770",
   "metadata": {},
   "source": [
    "Check Columns name"
   ]
  },
  {
   "cell_type": "code",
   "execution_count": null,
   "id": "60eab7cf",
   "metadata": {},
   "outputs": [],
   "source": [
    "print(df.columns)"
   ]
  },
  {
   "cell_type": "markdown",
   "id": "505ecece",
   "metadata": {},
   "source": [
    "Absent Student : "
   ]
  },
  {
   "cell_type": "code",
   "execution_count": null,
   "id": "ee567889",
   "metadata": {},
   "outputs": [],
   "source": [
    "print(\"Absent Student in one or more Subject : \")\n",
    "ab = df.filter(\n",
    "    (col(\"EM-II\") == \"AB\") |\n",
    "    (col(\"PPS\") == \"AB\") |\n",
    "    (col(\"CHEM/PHY\") == \"AB\") |\n",
    "    (col(\"EG/MECH\") == \"AB\") |\n",
    "    (col(\"BXE/BEE\") == \"AB\")\n",
    ")\n",
    "print(\"Count of Student :\",ab.count())\n",
    "ab.show(df.count(), truncate=False)"
   ]
  },
  {
   "cell_type": "code",
   "execution_count": null,
   "id": "d7114963",
   "metadata": {},
   "outputs": [],
   "source": [
    "print(\"Absent Student in all subjects : \")\n",
    "ab_all = df.filter(\n",
    "    (col(\"EM-II\") == \"AB\") &\n",
    "    (col(\"PPS\") == \"AB\") &\n",
    "    (col(\"CHEM/PHY\") == \"AB\") &\n",
    "    (col(\"EG/MECH\") == \"AB\") &\n",
    "    (col(\"BXE/BEE\") == \"AB\")\n",
    ")\n",
    "print(\"Count of Student :\",ab_all.count())\n",
    "ab_all.show(df.count(), truncate=False)"
   ]
  },
  {
   "cell_type": "markdown",
   "id": "e196553c",
   "metadata": {},
   "source": [
    "Fail Student : "
   ]
  },
  {
   "cell_type": "code",
   "execution_count": null,
   "id": "29cef66f",
   "metadata": {},
   "outputs": [],
   "source": [
    "print(\"Fail Student in one or more subject : \")\n",
    "fail = df.filter(\n",
    "    (col(\"EM-II\") < 28 ) |\n",
    "    (col(\"PPS\") < 28 ) |\n",
    "    (col(\"CHEM/PHY\") < 28 ) |\n",
    "    (col(\"EG/MECH\") < 28 ) |\n",
    "    (col(\"BXE/BEE\") < 28 )\n",
    ")\n",
    "print(\"Count of Student :\",fail.count())\n",
    "fail.show(df.count(), truncate=False)"
   ]
  },
  {
   "cell_type": "code",
   "execution_count": null,
   "id": "97c245a5",
   "metadata": {},
   "outputs": [],
   "source": [
    "print(\"Fail Student In All Subject : \")\n",
    "fail = df.filter(\n",
    "    (col(\"EM-II\") < 28 ) &\n",
    "    (col(\"PPS\") < 28 ) &\n",
    "    (col(\"CHEM/PHY\") < 28 ) &\n",
    "    (col(\"EG/MECH\") < 28 ) &\n",
    "    (col(\"BXE/BEE\") < 28 )\n",
    ")\n",
    "print(\"Count of Students :\",fail.count())\n",
    "fail.show(df.count(), truncate=False)"
   ]
  },
  {
   "cell_type": "markdown",
   "id": "e4dcc514",
   "metadata": {},
   "source": [
    "Replace AB student to 0 mark "
   ]
  },
  {
   "cell_type": "code",
   "execution_count": null,
   "id": "0db6fc2e",
   "metadata": {},
   "outputs": [],
   "source": [
    "\n",
    "subjects = [\"EM-II\", \"PPS\", \"CHEM/PHY\", \"EG/MECH\", \"BXE/BEE\"]\n",
    "\n",
    "for sub in subjects:\n",
    "    df = df.withColumn(sub, when(col(sub) == \"AB\", 0).otherwise(col(sub).cast(\"int\")))\n"
   ]
  },
  {
   "cell_type": "markdown",
   "id": "127fd3f6",
   "metadata": {},
   "source": [
    "Total marks & Percentage of each student : "
   ]
  },
  {
   "cell_type": "code",
   "execution_count": null,
   "id": "e94d9c91",
   "metadata": {},
   "outputs": [],
   "source": [
    "print(\"Total Marks & Percentage :\")\n",
    "df = df.withColumn(\"Total\", reduce(operator.add, [col(sub) for sub in subjects]))\n",
    "\n",
    "max_marks_per_subject = 70\n",
    "total_max = max_marks_per_subject * len(subjects)\n",
    "\n",
    "df = df.withColumn(\"Percentage\", round((col(\"Total\") / total_max) * 100, 2)) \n",
    "\n",
    "df.select(\"Roll No\", \"Candidate Name\", \"Total\", \"Percentage\").show(df.count(), truncate=False)"
   ]
  },
  {
   "cell_type": "code",
   "execution_count": null,
   "id": "4733175c",
   "metadata": {},
   "outputs": [],
   "source": [
    "df.show(df.count(), truncate=False)"
   ]
  },
  {
   "cell_type": "code",
   "execution_count": null,
   "id": "6051c866",
   "metadata": {},
   "outputs": [],
   "source": [
    "topper = df.orderBy(col(\"Percentage\").desc()).limit(1)\n",
    "\n",
    "print(\"Topper :\")\n",
    "topper.show()\n"
   ]
  }
 ],
 "metadata": {
  "kernelspec": {
   "display_name": "Python 3",
   "language": "python",
   "name": "python3"
  },
  "language_info": {
   "codemirror_mode": {
    "name": "ipython",
    "version": 3
   },
   "file_extension": ".py",
   "mimetype": "text/x-python",
   "name": "python",
   "nbconvert_exporter": "python",
   "pygments_lexer": "ipython3",
   "version": "3.12.0"
  }
 },
 "nbformat": 4,
 "nbformat_minor": 5
}
