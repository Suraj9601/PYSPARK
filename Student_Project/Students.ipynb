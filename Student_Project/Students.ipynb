{
 "cells": [
  {
   "cell_type": "code",
   "execution_count": 1,
   "id": "39432e80-f124-4ab8-b43d-5e1e3233a11d",
   "metadata": {},
   "outputs": [],
   "source": [
    "import findspark\n",
    "findspark.init()\n"
   ]
  },
  {
   "cell_type": "code",
   "execution_count": 2,
   "id": "70d88109-cdea-4ba5-85e8-fe9106e6d753",
   "metadata": {},
   "outputs": [
    {
     "name": "stdout",
     "output_type": "stream",
     "text": [
      "C:\\Program Files\\Java\\jdk-11\n"
     ]
    }
   ],
   "source": [
    "import findspark\n",
    "findspark.init()\n",
    "\n",
    "import os\n",
    "print(os.environ.get(\"JAVA_HOME\"))\n"
   ]
  },
  {
   "cell_type": "code",
   "execution_count": 3,
   "id": "eca3d6b5-5dce-4b36-9748-4d4ec088ee21",
   "metadata": {},
   "outputs": [],
   "source": [
    "from pyspark.sql import SparkSession\n",
    "from pyspark.sql.functions import col,when, round\n",
    "from functools import reduce\n",
    "import operator\n",
    "\n",
    "\n",
    "spark = SparkSession.builder \\\n",
    "    .appName(\"Test PySpark in Jupyter\") \\\n",
    "    .getOrCreate()\n"
   ]
  },
  {
   "cell_type": "markdown",
   "id": "e841e131",
   "metadata": {},
   "source": []
  },
  {
   "cell_type": "code",
   "execution_count": null,
   "id": "33726eec-d100-4d06-ae68-48aa5a0360af",
   "metadata": {},
   "outputs": [
    {
     "name": "stdout",
     "output_type": "stream",
     "text": [
      "All Student : \n"
     ]
    },
    {
     "data": {
      "text/html": [
       "<div>\n",
       "<style scoped>\n",
       "    .dataframe tbody tr th:only-of-type {\n",
       "        vertical-align: middle;\n",
       "    }\n",
       "\n",
       "    .dataframe tbody tr th {\n",
       "        vertical-align: top;\n",
       "    }\n",
       "\n",
       "    .dataframe thead th {\n",
       "        text-align: right;\n",
       "    }\n",
       "</style>\n",
       "<table border=\"1\" class=\"dataframe\">\n",
       "  <thead>\n",
       "    <tr style=\"text-align: right;\">\n",
       "      <th></th>\n",
       "      <th>Roll No</th>\n",
       "      <th>Candidate Name</th>\n",
       "      <th>EM-II</th>\n",
       "      <th>PPS</th>\n",
       "      <th>CHEM/PHY</th>\n",
       "      <th>EG/MECH</th>\n",
       "      <th>BXE/BEE</th>\n",
       "    </tr>\n",
       "  </thead>\n",
       "  <tbody>\n",
       "    <tr>\n",
       "      <th>0</th>\n",
       "      <td>F101</td>\n",
       "      <td>RAI ADITYA RAJKUMAR</td>\n",
       "      <td>31</td>\n",
       "      <td>34</td>\n",
       "      <td>26</td>\n",
       "      <td>42</td>\n",
       "      <td>22</td>\n",
       "    </tr>\n",
       "    <tr>\n",
       "      <th>1</th>\n",
       "      <td>F102</td>\n",
       "      <td>DHOKCHAULE SHREYA RAVINDRA</td>\n",
       "      <td>35</td>\n",
       "      <td>39</td>\n",
       "      <td>25</td>\n",
       "      <td>54</td>\n",
       "      <td>21</td>\n",
       "    </tr>\n",
       "    <tr>\n",
       "      <th>2</th>\n",
       "      <td>F103</td>\n",
       "      <td>GORE MANOJ TUKARAM</td>\n",
       "      <td>46</td>\n",
       "      <td>45</td>\n",
       "      <td>26</td>\n",
       "      <td>58</td>\n",
       "      <td>19</td>\n",
       "    </tr>\n",
       "    <tr>\n",
       "      <th>3</th>\n",
       "      <td>F104</td>\n",
       "      <td>GAVALI ROHIT PUNJARAM</td>\n",
       "      <td>19</td>\n",
       "      <td>18</td>\n",
       "      <td>18</td>\n",
       "      <td>39</td>\n",
       "      <td>7</td>\n",
       "    </tr>\n",
       "    <tr>\n",
       "      <th>4</th>\n",
       "      <td>F105</td>\n",
       "      <td>GAIKWAD AMIT ANKUSH</td>\n",
       "      <td>22</td>\n",
       "      <td>24</td>\n",
       "      <td>29</td>\n",
       "      <td>52</td>\n",
       "      <td>18</td>\n",
       "    </tr>\n",
       "    <tr>\n",
       "      <th>...</th>\n",
       "      <td>...</td>\n",
       "      <td>...</td>\n",
       "      <td>...</td>\n",
       "      <td>...</td>\n",
       "      <td>...</td>\n",
       "      <td>...</td>\n",
       "      <td>...</td>\n",
       "    </tr>\n",
       "    <tr>\n",
       "      <th>489</th>\n",
       "      <td>F858</td>\n",
       "      <td>DHOMSE TUSHAR VILAS</td>\n",
       "      <td>12</td>\n",
       "      <td>2</td>\n",
       "      <td>12</td>\n",
       "      <td>20</td>\n",
       "      <td>4</td>\n",
       "    </tr>\n",
       "    <tr>\n",
       "      <th>490</th>\n",
       "      <td>F859</td>\n",
       "      <td>DAUND PIYUSH ASHOK</td>\n",
       "      <td>AB</td>\n",
       "      <td>AB</td>\n",
       "      <td>AB</td>\n",
       "      <td>AB</td>\n",
       "      <td>AB</td>\n",
       "    </tr>\n",
       "    <tr>\n",
       "      <th>491</th>\n",
       "      <td>F860</td>\n",
       "      <td>KARAD SHRUTI BABASAHEB</td>\n",
       "      <td>14</td>\n",
       "      <td>14</td>\n",
       "      <td>30</td>\n",
       "      <td>30</td>\n",
       "      <td>5</td>\n",
       "    </tr>\n",
       "    <tr>\n",
       "      <th>492</th>\n",
       "      <td>F861</td>\n",
       "      <td>BARGAJE ADITYA GOVIND</td>\n",
       "      <td>10</td>\n",
       "      <td>10</td>\n",
       "      <td>15</td>\n",
       "      <td>20</td>\n",
       "      <td>3</td>\n",
       "    </tr>\n",
       "    <tr>\n",
       "      <th>493</th>\n",
       "      <td>F862</td>\n",
       "      <td>GHATE YOGESH BHARAT</td>\n",
       "      <td>14</td>\n",
       "      <td>10</td>\n",
       "      <td>16</td>\n",
       "      <td>20</td>\n",
       "      <td>3</td>\n",
       "    </tr>\n",
       "  </tbody>\n",
       "</table>\n",
       "<p>494 rows × 7 columns</p>\n",
       "</div>"
      ],
      "text/plain": [
       "    Roll No              Candidate Name EM-II PPS CHEM/PHY EG/MECH BXE/BEE\n",
       "0      F101         RAI ADITYA RAJKUMAR    31  34       26      42      22\n",
       "1      F102  DHOKCHAULE SHREYA RAVINDRA    35  39       25      54      21\n",
       "2      F103          GORE MANOJ TUKARAM    46  45       26      58      19\n",
       "3      F104       GAVALI ROHIT PUNJARAM    19  18       18      39       7\n",
       "4      F105         GAIKWAD AMIT ANKUSH    22  24       29      52      18\n",
       "..      ...                         ...   ...  ..      ...     ...     ...\n",
       "489    F858         DHOMSE TUSHAR VILAS    12   2       12      20       4\n",
       "490    F859          DAUND PIYUSH ASHOK    AB  AB       AB      AB      AB\n",
       "491    F860      KARAD SHRUTI BABASAHEB    14  14       30      30       5\n",
       "492    F861       BARGAJE ADITYA GOVIND    10  10       15      20       3\n",
       "493    F862         GHATE YOGESH BHARAT    14  10       16      20       3\n",
       "\n",
       "[494 rows x 7 columns]"
      ]
     },
     "execution_count": 4,
     "metadata": {},
     "output_type": "execute_result"
    }
   ],
   "source": [
    "print(\"All Students : \")\n",
    "df = spark.read.csv(\"students.csv\", header=True, inferSchema=True)\n",
    "df.toPandas()\n"
   ]
  },
  {
   "cell_type": "code",
   "execution_count": 5,
   "id": "60eab7cf",
   "metadata": {},
   "outputs": [
    {
     "name": "stdout",
     "output_type": "stream",
     "text": [
      "['Roll No', 'Candidate Name', 'EM-II', 'PPS', 'CHEM/PHY', 'EG/MECH', 'BXE/BEE']\n"
     ]
    }
   ],
   "source": [
    "print(df.columns)"
   ]
  },
  {
   "cell_type": "code",
   "execution_count": 6,
   "id": "ee567889",
   "metadata": {},
   "outputs": [
    {
     "name": "stdout",
     "output_type": "stream",
     "text": [
      "Absent Student in one or more Subject : \n",
      "+-------+--------------------+-----+---+--------+-------+-------+\n",
      "|Roll No|      Candidate Name|EM-II|PPS|CHEM/PHY|EG/MECH|BXE/BEE|\n",
      "+-------+--------------------+-----+---+--------+-------+-------+\n",
      "|   F107|VINCHURKAR PARTH ...|   AB| AB|      29|     19|      5|\n",
      "|   F114| CHAVAN VAIBHAV AJIT|   AB| AB|       0|     AB|     AB|\n",
      "|   F121| BATTISE MEET ASHISH|   AB| AB|       0|     AB|     AB|\n",
      "|   F129|NANDURGE KALYANI ...|   25| 24|      40|     12|     AB|\n",
      "|   F132|PATIL BHAGYASHREE...|   18| 19|      37|     AB|      0|\n",
      "|   F133|KOLHE RUTUJA RAJE...|   AB| AB|       0|     AB|     AB|\n",
      "|   F137|  YADAV OMKAR SUDHIR|   10| AB|       0|     24|      3|\n",
      "|   F138| MORE JAYESH JAGDISH|   10| 12|      26|      0|     AB|\n",
      "|   F144|  KALE KARAN SHYAMAL|   AB| AB|       0|     AB|     AB|\n",
      "|   F154| ARYAN KEVALDAS TURE|    5|  7|       9|     AB|      0|\n",
      "|   F155| GAIKWAD YASH GANESH|   AB| AB|       0|     AB|     AB|\n",
      "|   F201|THORAT AISHWARYA ...|    3| AB|      37|     12|      0|\n",
      "|   F203|KANHERE SHYAM PRA...|   AB| 37|      27|     38|     35|\n",
      "|   F206|BORADE SAKSHAMI S...|   34| 36|      32|     38|     AB|\n",
      "|   F212|PAWAR SAMARTH RAN...|   AB| 35|      39|     51|     39|\n",
      "|   F220| KADAM SHAMBHAVI RAM|   12| 14|      14|     14|     AB|\n",
      "|   F232|NALAWADE SUJIT SUNIL|   AB| AB|      12|     AB|     AB|\n",
      "|   F236|AWALE ROHAN VISHW...|   28| 30|      17|     16|     AB|\n",
      "|   F238|PAWAR SHRAVAN PRADIP|   22| 24|      14|     28|     AB|\n",
      "|   F239|CHAUDHARI PRANAV ...|   AB| 19|      38|     17|     AB|\n",
      "+-------+--------------------+-----+---+--------+-------+-------+\n",
      "only showing top 20 rows\n",
      "\n"
     ]
    }
   ],
   "source": [
    "print(\"Absent Student in one or more Subject : \")\n",
    "ab = df.filter(\n",
    "    (col(\"EM-II\") == \"AB\") |\n",
    "    (col(\"PPS\") == \"AB\") |\n",
    "    (col(\"CHEM/PHY\") == \"AB\") |\n",
    "    (col(\"EG/MECH\") == \"AB\") |\n",
    "    (col(\"BXE/BEE\") == \"AB\")\n",
    ")\n",
    "ab.show()\n"
   ]
  },
  {
   "cell_type": "code",
   "execution_count": 7,
   "id": "d7114963",
   "metadata": {},
   "outputs": [
    {
     "name": "stdout",
     "output_type": "stream",
     "text": [
      "Absent Student in all subjects : \n",
      "+-------+--------------------+-----+---+--------+-------+-------+\n",
      "|Roll No|      Candidate Name|EM-II|PPS|CHEM/PHY|EG/MECH|BXE/BEE|\n",
      "+-------+--------------------+-----+---+--------+-------+-------+\n",
      "|   F661|KARBHARI SRUSHTI ...|   AB| AB|      AB|     AB|     AB|\n",
      "|   F835|THORAT VISHAL ANKUSH|   AB| AB|      AB|     AB|     AB|\n",
      "|   F843|OVHAL PRASHIK PRE...|   AB| AB|      AB|     AB|     AB|\n",
      "|   F853|SHILVANT SAHIL SA...|   AB| AB|      AB|     AB|     AB|\n",
      "|   F859|  DAUND PIYUSH ASHOK|   AB| AB|      AB|     AB|     AB|\n",
      "+-------+--------------------+-----+---+--------+-------+-------+\n",
      "\n"
     ]
    }
   ],
   "source": [
    "print(\"Absent Student in all subjects : \")\n",
    "AB_1 = df.filter(\n",
    "    (col(\"EM-II\") == \"AB\") &\n",
    "    (col(\"PPS\") == \"AB\") &\n",
    "    (col(\"CHEM/PHY\") == \"AB\") &\n",
    "    (col(\"EG/MECH\") == \"AB\") &\n",
    "    (col(\"BXE/BEE\") == \"AB\")\n",
    ")\n",
    "AB_1.show()"
   ]
  },
  {
   "cell_type": "code",
   "execution_count": 8,
   "id": "29cef66f",
   "metadata": {},
   "outputs": [
    {
     "name": "stdout",
     "output_type": "stream",
     "text": [
      "Fail Student in one or more subject : \n",
      "+-------+--------------------+-----+---+--------+-------+-------+\n",
      "|Roll No|      Candidate Name|EM-II|PPS|CHEM/PHY|EG/MECH|BXE/BEE|\n",
      "+-------+--------------------+-----+---+--------+-------+-------+\n",
      "|   F101| RAI ADITYA RAJKUMAR|   31| 34|      26|     42|     22|\n",
      "|   F102|DHOKCHAULE SHREYA...|   35| 39|      25|     54|     21|\n",
      "|   F103|  GORE MANOJ TUKARAM|   46| 45|      26|     58|     19|\n",
      "|   F104|GAVALI ROHIT PUNJ...|   19| 18|      18|     39|      7|\n",
      "|   F105| GAIKWAD AMIT ANKUSH|   22| 24|      29|     52|     18|\n",
      "|   F106|  JADHAV SAYALI BAPU|   39| 37|      43|     44|     27|\n",
      "|   F107|VINCHURKAR PARTH ...|   AB| AB|      29|     19|      5|\n",
      "|   F108|NAGPURE AKSHATA N...|   28| 29|      43|     46|     21|\n",
      "|   F109|PATTEWAR SAMIKSHA...|   35| 37|      39|     29|     13|\n",
      "|   F110|PANDHE SHRAVAN SA...|    9| 10|      12|     15|      0|\n",
      "|   F111|JADHAO SARTHAK GA...|    9|  8|       7|     22|      1|\n",
      "|   F112|PATHAN KASHAF NAA...|   31| 33|      26|     35|      9|\n",
      "|   F113|POTARE KEDAR SHIVAJI|   18| 20|      18|     52|      4|\n",
      "|   F114| CHAVAN VAIBHAV AJIT|   AB| AB|       0|     AB|     AB|\n",
      "|   F115|    GHODKE JAY VIVEK|   17| 15|      43|     16|      9|\n",
      "|   F116|  BHUSHANVINODKODMUR|    9|  7|       0|      0|      0|\n",
      "|   F117|LOKHANDE GANESH S...|    4|  5|       0|      0|      0|\n",
      "|   F118| SHAHA BHUMI SANDESH|   41| 44|       0|     40|     17|\n",
      "|   F119|NEETI PRAFULLA TA...|   28| 30|      41|     30|     22|\n",
      "|   F120|KODRIKAR SAHIL SH...|   48| 42|      19|     44|     15|\n",
      "+-------+--------------------+-----+---+--------+-------+-------+\n",
      "only showing top 20 rows\n",
      "\n"
     ]
    }
   ],
   "source": [
    "print(\"Fail Student in one or more subject : \")\n",
    "fail = df.filter(\n",
    "    (col(\"EM-II\") < 28 ) |\n",
    "    (col(\"PPS\") < 28 ) |\n",
    "    (col(\"CHEM/PHY\") < 28 ) |\n",
    "    (col(\"EG/MECH\") < 28 ) |\n",
    "    (col(\"BXE/BEE\") < 28 )\n",
    ")\n",
    "fail.show()"
   ]
  },
  {
   "cell_type": "code",
   "execution_count": 9,
   "id": "97c245a5",
   "metadata": {},
   "outputs": [
    {
     "name": "stdout",
     "output_type": "stream",
     "text": [
      "Fail Student In All Subject : \n",
      "+-------+--------------------+-----+---+--------+-------+-------+\n",
      "|Roll No|      Candidate Name|EM-II|PPS|CHEM/PHY|EG/MECH|BXE/BEE|\n",
      "+-------+--------------------+-----+---+--------+-------+-------+\n",
      "|   F110|PANDHE SHRAVAN SA...|    9| 10|      12|     15|      0|\n",
      "|   F111|JADHAO SARTHAK GA...|    9|  8|       7|     22|      1|\n",
      "|   F116|  BHUSHANVINODKODMUR|    9|  7|       0|      0|      0|\n",
      "|   F117|LOKHANDE GANESH S...|    4|  5|       0|      0|      0|\n",
      "|   F135|  MANG PRASHANT BABU|   10|  9|      26|      0|      5|\n",
      "|   F136|THORBOLE DNYANESH...|    9| 10|      18|      4|      0|\n",
      "|   F140|   SHELKE SURAJ RAMA|    4|  5|       0|      0|      0|\n",
      "|   F141|KALE SHRAVANI NAV...|   12| 15|       0|     14|      8|\n",
      "|   F145|BHOKNAL PRANAV PA...|   16| 17|       9|      4|      0|\n",
      "|   F147|DUKALE PRUTHVIRAJ...|   10|  9|      10|      2|      0|\n",
      "|   F151|  GADADE AMAR SANDIP|   13| 14|      13|      5|      2|\n",
      "|   F153| UDHAN KRUSHNA BANDU|   22| 25|       9|      4|      3|\n",
      "|   F156|KANDIWAR JAYESH S...|   16| 19|      11|     11|      2|\n",
      "|   F158|   GAVALI RAJ KAILAS|    4|  3|       4|      0|      0|\n",
      "|   F159|  PURI ADITYA ACHYUT|    4|  5|       5|      2|      0|\n",
      "|   F235|DHAKNE SUSHANT ARJUN|   17| 18|      16|      4|      2|\n",
      "|   F245|BHUJBAL LALIT SHA...|   14| 15|      16|     13|      8|\n",
      "|   F246|SHINDE TEJAS JIJA...|   14| 14|      10|     10|      5|\n",
      "|   F248|BAKARE KHUSHI SHA...|   24| 25|      25|     18|     22|\n",
      "|   F250|MUNDE AJINKYA HAR...|   10| 11|      18|      0|      4|\n",
      "+-------+--------------------+-----+---+--------+-------+-------+\n",
      "only showing top 20 rows\n",
      "\n"
     ]
    }
   ],
   "source": [
    "print(\"Fail Student In All Subject : \")\n",
    "fail = df.filter(\n",
    "    (col(\"EM-II\") < 28 ) &\n",
    "    (col(\"PPS\") < 28 ) &\n",
    "    (col(\"CHEM/PHY\") < 28 ) &\n",
    "    (col(\"EG/MECH\") < 28 ) &\n",
    "    (col(\"BXE/BEE\") < 28 )\n",
    ")\n",
    "fail.show()"
   ]
  },
  {
   "cell_type": "code",
   "execution_count": 10,
   "id": "6b539102",
   "metadata": {},
   "outputs": [
    {
     "name": "stdout",
     "output_type": "stream",
     "text": [
      "['Roll No', 'Candidate Name', 'EM-II', 'PPS', 'CHEM/PHY', 'EG/MECH', 'BXE/BEE']\n"
     ]
    }
   ],
   "source": [
    "print(df.columns)"
   ]
  },
  {
   "cell_type": "code",
   "execution_count": 11,
   "id": "0db6fc2e",
   "metadata": {},
   "outputs": [],
   "source": [
    "\n",
    "subjects = [\"EM-II\", \"PPS\", \"CHEM/PHY\", \"EG/MECH\", \"BXE/BEE\"]\n",
    "\n",
    "for sub in subjects:\n",
    "    df = df.withColumn(sub, when(col(sub) == \"AB\", 0).otherwise(col(sub).cast(\"int\")))\n"
   ]
  },
  {
   "cell_type": "code",
   "execution_count": 12,
   "id": "e94d9c91",
   "metadata": {},
   "outputs": [
    {
     "name": "stdout",
     "output_type": "stream",
     "text": [
      "Total Marks & Percentage :\n",
      "+-------+--------------------------+-----+----------+\n",
      "|Roll No|Candidate Name            |Total|Percentage|\n",
      "+-------+--------------------------+-----+----------+\n",
      "|F101   |RAI ADITYA RAJKUMAR       |155  |44.29     |\n",
      "|F102   |DHOKCHAULE SHREYA RAVINDRA|174  |49.71     |\n",
      "|F103   |GORE MANOJ TUKARAM        |194  |55.43     |\n",
      "|F104   |GAVALI ROHIT PUNJARAM     |101  |28.86     |\n",
      "|F105   |GAIKWAD AMIT ANKUSH       |145  |41.43     |\n",
      "|F106   |JADHAV SAYALI BAPU        |190  |54.29     |\n",
      "|F107   |VINCHURKAR PARTH SANTOSH  |53   |15.14     |\n",
      "|F108   |NAGPURE AKSHATA NITIN     |167  |47.71     |\n",
      "|F109   |PATTEWAR SAMIKSHA BALAJI  |153  |43.71     |\n",
      "|F110   |PANDHE SHRAVAN SACHIN     |46   |13.14     |\n",
      "+-------+--------------------------+-----+----------+\n",
      "only showing top 10 rows\n",
      "\n"
     ]
    }
   ],
   "source": [
    "print(\"Total Marks & Percentage :\")\n",
    "df = df.withColumn(\"Total\", reduce(operator.add, [col(sub) for sub in subjects]))\n",
    " \n",
    "\n",
    "max_marks_per_subject = 70\n",
    "total_max = max_marks_per_subject * len(subjects)\n",
    "\n",
    "df = df.withColumn(\"Percentage\", round((col(\"Total\") / total_max) * 100, 2)) \n",
    "\n",
    "df.select(\"Roll No\", \"Candidate Name\", \"Total\", \"Percentage\").show(10, truncate=False)"
   ]
  },
  {
   "cell_type": "code",
   "execution_count": 13,
   "id": "4733175c",
   "metadata": {},
   "outputs": [
    {
     "name": "stdout",
     "output_type": "stream",
     "text": [
      "+-------+--------------------+-----+---+--------+-------+-------+-----+----------+\n",
      "|Roll No|      Candidate Name|EM-II|PPS|CHEM/PHY|EG/MECH|BXE/BEE|Total|Percentage|\n",
      "+-------+--------------------+-----+---+--------+-------+-------+-----+----------+\n",
      "|   F101| RAI ADITYA RAJKUMAR|   31| 34|      26|     42|     22|  155|     44.29|\n",
      "|   F102|DHOKCHAULE SHREYA...|   35| 39|      25|     54|     21|  174|     49.71|\n",
      "|   F103|  GORE MANOJ TUKARAM|   46| 45|      26|     58|     19|  194|     55.43|\n",
      "|   F104|GAVALI ROHIT PUNJ...|   19| 18|      18|     39|      7|  101|     28.86|\n",
      "|   F105| GAIKWAD AMIT ANKUSH|   22| 24|      29|     52|     18|  145|     41.43|\n",
      "|   F106|  JADHAV SAYALI BAPU|   39| 37|      43|     44|     27|  190|     54.29|\n",
      "|   F107|VINCHURKAR PARTH ...|    0|  0|      29|     19|      5|   53|     15.14|\n",
      "|   F108|NAGPURE AKSHATA N...|   28| 29|      43|     46|     21|  167|     47.71|\n",
      "|   F109|PATTEWAR SAMIKSHA...|   35| 37|      39|     29|     13|  153|     43.71|\n",
      "|   F110|PANDHE SHRAVAN SA...|    9| 10|      12|     15|      0|   46|     13.14|\n",
      "|   F111|JADHAO SARTHAK GA...|    9|  8|       7|     22|      1|   47|     13.43|\n",
      "|   F112|PATHAN KASHAF NAA...|   31| 33|      26|     35|      9|  134|     38.29|\n",
      "|   F113|POTARE KEDAR SHIVAJI|   18| 20|      18|     52|      4|  112|      32.0|\n",
      "|   F114| CHAVAN VAIBHAV AJIT|    0|  0|       0|      0|      0|    0|       0.0|\n",
      "|   F115|    GHODKE JAY VIVEK|   17| 15|      43|     16|      9|  100|     28.57|\n",
      "|   F116|  BHUSHANVINODKODMUR|    9|  7|       0|      0|      0|   16|      4.57|\n",
      "|   F117|LOKHANDE GANESH S...|    4|  5|       0|      0|      0|    9|      2.57|\n",
      "|   F118| SHAHA BHUMI SANDESH|   41| 44|       0|     40|     17|  142|     40.57|\n",
      "|   F119|NEETI PRAFULLA TA...|   28| 30|      41|     30|     22|  151|     43.14|\n",
      "|   F120|KODRIKAR SAHIL SH...|   48| 42|      19|     44|     15|  168|      48.0|\n",
      "+-------+--------------------+-----+---+--------+-------+-------+-----+----------+\n",
      "only showing top 20 rows\n",
      "\n"
     ]
    }
   ],
   "source": [
    "df.show()"
   ]
  },
  {
   "cell_type": "code",
   "execution_count": 14,
   "id": "6051c866",
   "metadata": {},
   "outputs": [
    {
     "name": "stdout",
     "output_type": "stream",
     "text": [
      "Topper :\n",
      "+-------+--------------------+-----+---+--------+-------+-------+-----+----------+\n",
      "|Roll No|      Candidate Name|EM-II|PPS|CHEM/PHY|EG/MECH|BXE/BEE|Total|Percentage|\n",
      "+-------+--------------------+-----+---+--------+-------+-------+-----+----------+\n",
      "|   F610|BHALEKAR BHAKTI B...|   63| 46|      67|     68|     64|  308|      88.0|\n",
      "+-------+--------------------+-----+---+--------+-------+-------+-----+----------+\n",
      "\n"
     ]
    }
   ],
   "source": [
    "topper = df.orderBy(col(\"Percentage\").desc()).limit(1)\n",
    "\n",
    "print(\"Topper :\")\n",
    "topper.show()\n"
   ]
  },
  {
   "cell_type": "code",
   "execution_count": 15,
   "id": "08dbf946",
   "metadata": {},
   "outputs": [
    {
     "name": "stdout",
     "output_type": "stream",
     "text": [
      "+-------+------------------+-----+---+--------+-------+-------+-----+----------+\n",
      "|Roll No|    Candidate Name|EM-II|PPS|CHEM/PHY|EG/MECH|BXE/BEE|Total|Percentage|\n",
      "+-------+------------------+-----+---+--------+-------+-------+-----+----------+\n",
      "|   F601|AGLAVE SURAJ SHAHU|   38| 38|      43|     52|     42|  213|     60.86|\n",
      "+-------+------------------+-----+---+--------+-------+-------+-----+----------+\n",
      "\n"
     ]
    }
   ],
   "source": [
    "stu = df.filter(col(\"Roll No\") == \"F601\").show()"
   ]
  }
 ],
 "metadata": {
  "kernelspec": {
   "display_name": "Python 3",
   "language": "python",
   "name": "python3"
  },
  "language_info": {
   "codemirror_mode": {
    "name": "ipython",
    "version": 3
   },
   "file_extension": ".py",
   "mimetype": "text/x-python",
   "name": "python",
   "nbconvert_exporter": "python",
   "pygments_lexer": "ipython3",
   "version": "3.12.0"
  }
 },
 "nbformat": 4,
 "nbformat_minor": 5
}
